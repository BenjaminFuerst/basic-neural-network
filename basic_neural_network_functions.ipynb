{
 "cells": [
  {
   "cell_type": "code",
   "execution_count": 160,
   "metadata": {},
   "outputs": [],
   "source": [
    "import numpy as np"
   ]
  },
  {
   "cell_type": "code",
   "execution_count": 163,
   "metadata": {},
   "outputs": [],
   "source": [
    "def initialize_parameters(layer_dims):\n",
    "    \"\"\"\n",
    "    Implements initialization of network layers\n",
    "    \n",
    "    Receives:\n",
    "    layer_dims -- python array containing the dimensions of each layer in the network (counting input layer)\n",
    "    \n",
    "    Returns:\n",
    "    parameters -- python dictionary containing the parameters W1, b1, ..., WL, bL\n",
    "                    Wl -- weight matrix, numpy array with shape (layer_dims[l], layer_dims[l-1])\n",
    "                    bl -- bias vector, numpy array with shape (layer_dims[l], 1)\n",
    "    \"\"\"\n",
    "    \n",
    "    np.random.seed(1)\n",
    "    parameters = {}\n",
    "    L = len(layer_dims)\n",
    "    \n",
    "    for l in range(1, L):\n",
    "        parameters[\"W\" + str(l)] = np.random.randn(layer_dims[l], layer_dims[l-1]) * np.sqrt(1/layer_dims[l-1])\n",
    "        parameters[\"b\" + str(l)] = np.zeros((layer_dims[l], 1))\n",
    "        \n",
    "    return parameters"
   ]
  },
  {
   "cell_type": "code",
   "execution_count": 164,
   "metadata": {},
   "outputs": [
    {
     "name": "stdout",
     "output_type": "stream",
     "text": [
      "W1:\n",
      "[[ 0.72642933 -0.27358579 -0.23620559 -0.47984616  0.38702206]\n",
      " [-1.0292794   0.78030354 -0.34042208  0.14267862 -0.11152182]\n",
      " [ 0.65387455 -0.92132293 -0.14418936 -0.17175433  0.50703711]]\n",
      "b1:\n",
      "[[0.]\n",
      " [0.]\n",
      " [0.]]\n",
      "W2:\n",
      "[[-0.63502252 -0.09955147 -0.50683179]]\n",
      "b2:\n",
      "[[0.]]\n"
     ]
    }
   ],
   "source": [
    "layer_dims = [5, 3, 1]\n",
    "parameters = initialize_parameters(layer_dims)\n",
    "L = len(layer_dims)\n",
    "for l in range(1, L):\n",
    "    print(\"W\" + str(l) + \":\\n\" + str(parameters[\"W\"+str(l)]))\n",
    "    print(\"b\" + str(l) + \":\\n\" + str(parameters[\"b\"+str(l)]))"
   ]
  },
  {
   "cell_type": "code",
   "execution_count": 165,
   "metadata": {},
   "outputs": [],
   "source": [
    "def sigmoid(Z, use_cache=True):\n",
    "    \"\"\"\n",
    "    Implements the sigmoid function\n",
    "    \n",
    "    Receives:\n",
    "    Z -- output of the linear function, numpy array with shape (size of current layer, number of examples)\n",
    "    use_cache -- if true, caches Z\n",
    "    \n",
    "    Returns:\n",
    "    A -- output of sigmoid(Z), numpy array with shape (size of current layer, number of examples)\n",
    "    cache -- caches Z, useful during backpropagation\n",
    "    \"\"\"\n",
    "    \n",
    "    A = 1/(1+np.exp(-Z))\n",
    "    \n",
    "    if use_cache:\n",
    "        cache = Z\n",
    "        return A, cache\n",
    "    else:\n",
    "        return A"
   ]
  },
  {
   "cell_type": "code",
   "execution_count": 166,
   "metadata": {},
   "outputs": [
    {
     "name": "stdout",
     "output_type": "stream",
     "text": [
      "A:\n",
      "[[0.51055187 0.64171493]\n",
      " [0.2496239  0.75854586]\n",
      " [0.71127629 0.62304533]]\n"
     ]
    }
   ],
   "source": [
    "Z = np.random.randn(3,2)\n",
    "A = sigmoid(Z, use_cache=False)\n",
    "print(\"A:\\n\" + str(A))"
   ]
  },
  {
   "cell_type": "code",
   "execution_count": 167,
   "metadata": {},
   "outputs": [],
   "source": [
    "def relu(Z, use_cache=True):\n",
    "    \"\"\"\n",
    "    Implements the ReLU function\n",
    "    \n",
    "    Receives:\n",
    "    Z -- output of the linear function, numpy array with shape (size of current layer, number of examples)\n",
    "    use_cache -- if true, caches Z\n",
    "    \n",
    "    Returns:\n",
    "    A -- output of ReLU(Z), numpy array with shape (size of current layer, number of examples)\n",
    "    cache -- caches Z, useful during backpropagation\n",
    "    \"\"\"\n",
    "    \n",
    "    A = np.maximum(0, Z)\n",
    "    \n",
    "    if use_cache:\n",
    "        cache = Z\n",
    "        return A, cache\n",
    "    else:\n",
    "        return A"
   ]
  },
  {
   "cell_type": "code",
   "execution_count": 168,
   "metadata": {},
   "outputs": [
    {
     "name": "stdout",
     "output_type": "stream",
     "text": [
      "A:\n",
      "[[0.90085595 0.        ]\n",
      " [0.         0.        ]\n",
      " [0.         0.53035547]]\n"
     ]
    }
   ],
   "source": [
    "Z = np.random.randn(3,2)\n",
    "A = relu(Z, use_cache=False)\n",
    "print(\"A:\\n\" + str(A))"
   ]
  },
  {
   "cell_type": "code",
   "execution_count": 169,
   "metadata": {},
   "outputs": [],
   "source": [
    "def linear_forward(A_prev, W, b, use_cache=True):\n",
    "    \"\"\"\n",
    "    Implements the linear part of forward propagation\n",
    "    \n",
    "    Receives:\n",
    "    A_prev -- activations from previous layer (or input layer), numpy array with shape (size of previous layer, number of examples)\n",
    "    W -- weight matrix, numpy array with shape (size of current layer, size of previous layer)\n",
    "    b -- bias vector, numpy array with shape (size of current layer, 1)\n",
    "    use_cache -- if true, caches A_prev, W and b\n",
    "    \n",
    "    Returns:\n",
    "    Z -- output of the linear function, numpy array with shape (size of current layer, number of examples)\n",
    "    cache -- caches A_prev, W and b, useful during backpropagation\n",
    "    \"\"\"\n",
    "    \n",
    "    Z = np.dot(W, A_prev) + b\n",
    "    \n",
    "    if use_cache:\n",
    "        cache = (A_prev, W, b)\n",
    "        return Z, cache\n",
    "    else:\n",
    "        return Z"
   ]
  },
  {
   "cell_type": "code",
   "execution_count": 171,
   "metadata": {},
   "outputs": [
    {
     "name": "stdout",
     "output_type": "stream",
     "text": [
      "Z:\n",
      "[[0.66160388 1.2287564 ]]\n"
     ]
    }
   ],
   "source": [
    "A_prev = np.random.randn(3,2)\n",
    "W = np.random.randn(1,3)\n",
    "b = np.random.randn(1,1)\n",
    "\n",
    "Z = linear_forward(A_prev, W, b, use_cache=False)\n",
    "print(\"Z:\\n\" + str(Z))"
   ]
  },
  {
   "cell_type": "code",
   "execution_count": 16,
   "metadata": {},
   "outputs": [],
   "source": [
    "def linear_activation_forward(A_prev, W, b, activation, use_cache=True):\n",
    "    \"\"\"\n",
    "    Implements the activation part of forward propagation\n",
    "    \n",
    "    Receives:\n",
    "    A_prev -- activations from previous layer (or input layer), numpy array with shape (size of previous layer, number of examples)\n",
    "    W -- weight matrix, numpy array with shape (size of current layer, size of previous layer)\n",
    "    b -- bias vector, numpy array with shape (size of current layer, 1)\n",
    "    activation -- the activation to be used in this layer, can be \"sigmoid\" or \"relu\"\n",
    "    use_cache -- if true, caches linear_cache and activation_cache\n",
    "    \n",
    "    Returns:\n",
    "    A -- output of the activation function, numpy array with shape (size of current layer, number of examples)\n",
    "    cache -- caches linear_cache and activation_cache, useful during backpropagation\n",
    "    \"\"\"\n",
    "    \n",
    "    if use_cache:\n",
    "        Z, linear_cache = linear_forward(A_prev, W, b, use_cache=True)\n",
    "        if activation == \"sigmoid\":\n",
    "            A, activation_cache = sigmoid(Z, use_cache=True)\n",
    "        elif activation == \"relu\":\n",
    "            A, activation_cache = relu(Z, use_cache=True)\n",
    "        cache = (linear_cache, activation_cache)\n",
    "        return A, cache\n",
    "    else:\n",
    "        Z = linear_forward(A_prev, W, b, use_cache=False)\n",
    "        if activation == \"sigmoid\":\n",
    "            A = sigmoid(Z, use_cache=False)\n",
    "        elif activation == \"relu\":\n",
    "            A = relu(Z, use_cache=False)\n",
    "        return A"
   ]
  },
  {
   "cell_type": "code",
   "execution_count": 229,
   "metadata": {},
   "outputs": [
    {
     "name": "stdout",
     "output_type": "stream",
     "text": [
      "sigmoid:\n",
      "A:\n",
      "[[0.74432175 0.75958251]]\n",
      "\n",
      "ReLU:\n",
      "A:\n",
      "[[1.0685536 1.150392 ]]\n"
     ]
    }
   ],
   "source": [
    "A_prev = np.random.randn(3,2)\n",
    "W = np.random.randn(1,3)\n",
    "b = np.random.randn(1,1)\n",
    "\n",
    "A = linear_activation_forward(A_prev, W, b, activation=\"sigmoid\", use_cache=False)\n",
    "print(\"sigmoid:\")\n",
    "print(\"A:\\n\" + str(A))\n",
    "\n",
    "A = linear_activation_forward(A_prev, W, b, activation=\"relu\", use_cache=False)\n",
    "print(\"\\nReLU:\")\n",
    "print(\"A:\\n\" + str(A))"
   ]
  },
  {
   "cell_type": "code",
   "execution_count": 23,
   "metadata": {},
   "outputs": [],
   "source": [
    "def forward_propagation(X, parameters, use_cache=True):\n",
    "    \"\"\"\n",
    "    Implements forward propagation\n",
    "    \n",
    "    Receives:\n",
    "    X -- data, numpy array with shape (size of input layer, number of examples)\n",
    "    parameters -- python dictionary containing parameters of the model\n",
    "    use_cache -- if true, caches every cache of linear_activation_forward()\n",
    "    \n",
    "    Returns:\n",
    "    AL -- last output of the activation function\n",
    "    caches -- python array containing every cache of linear_activation_forward(), useful during backpropagation\n",
    "    \"\"\"\n",
    "    \n",
    "    L = len(parameters) // 2\n",
    "    A = X\n",
    "    \n",
    "    if use_cache:\n",
    "        caches = []\n",
    "        for l in range(1, L):\n",
    "            A_prev = A\n",
    "            A, cache = linear_activation_forward(A_prev, parameters[\"W\" + str(l)], parameters[\"b\" + str(l)], \"relu\", use_cache=True)\n",
    "            caches.append(cache)\n",
    "        AL, cache = linear_activation_forward(A, parameters[\"W\" + str(L)], parameters[\"b\" + str(L)], \"sigmoid\", use_cache=True)\n",
    "        caches.append(cache)\n",
    "        return AL, caches\n",
    "    else:\n",
    "        for l in range(1, L):\n",
    "            A_prev = A\n",
    "            A = linear_activation_forward(A_prev, parameters[\"W\" + str(l)], parameters[\"b\" + str(l)], \"relu\", use_cache=False)\n",
    "        AL = linear_activation_forward(A, parameters[\"W\" + str(L)], parameters[\"b\" + str(L)], \"sigmoid\", use_cache=False)\n",
    "        return AL"
   ]
  },
  {
   "cell_type": "code",
   "execution_count": 299,
   "metadata": {},
   "outputs": [
    {
     "name": "stdout",
     "output_type": "stream",
     "text": [
      "AL:\n",
      "[[0.12926182 0.32471255 0.32471255]]\n"
     ]
    }
   ],
   "source": [
    "X = np.random.randn(4,3)\n",
    "W1 = np.random.randn(3,4)\n",
    "b1 = np.random.randn(3,1)\n",
    "W2 = np.random.randn(1,3)\n",
    "b2 = np.random.randn(1,1)\n",
    "parameters = {\"W1\": W1,\n",
    "              \"b1\": b1,\n",
    "              \"W2\": W2,\n",
    "              \"b2\": b2}\n",
    "AL = forward_propagation(X, parameters, use_cache=False)\n",
    "print(\"AL:\\n\" + str(AL))"
   ]
  },
  {
   "cell_type": "code",
   "execution_count": 328,
   "metadata": {},
   "outputs": [],
   "source": [
    "def compute_cost(AL, Y):\n",
    "    \"\"\"\n",
    "    Implements the cost function\n",
    "    \n",
    "    Receives:\n",
    "    AL -- probability vector corresponding to label predictions, numpy array with shape (output size, number of examples)\n",
    "    Y -- true label vector, numpy array with shape (output size, number of examples)\n",
    "    \n",
    "    Returns:\n",
    "    cost -- cross-entropy cost, scalar\n",
    "    \"\"\"\n",
    "    \n",
    "    m = AL.shape[1]\n",
    "    \n",
    "    cost = -1/m * np.sum(Y*np.log(AL) + (1-Y)*np.log(1-AL))\n",
    "    cost = np.squeeze(cost)\n",
    "    \n",
    "    return cost"
   ]
  },
  {
   "cell_type": "code",
   "execution_count": 368,
   "metadata": {},
   "outputs": [
    {
     "name": "stdout",
     "output_type": "stream",
     "text": [
      "cost:\n",
      "0.3242870277875165\n"
     ]
    }
   ],
   "source": [
    "AL = np.array([[0.9, 0.3, 0.6]])\n",
    "Y = np.array([[1, 0, 1]])\n",
    "\n",
    "cost = compute_cost(AL, Y)\n",
    "print(\"cost:\\n\" + str(cost))"
   ]
  },
  {
   "cell_type": "code",
   "execution_count": 308,
   "metadata": {},
   "outputs": [],
   "source": [
    "def sigmoid_backward(dA, cache):\n",
    "    \"\"\"\n",
    "    Implements backward propagation for a sigmoid unit\n",
    "    \n",
    "    Receives:\n",
    "    dA -- post-activation gradient, numpy array with shape (size of current layer, number of examples)\n",
    "    cache -- Z, stored from linear_activation_forward() (of current layer l)\n",
    "    \n",
    "    Returns:\n",
    "    dZ -- gradient of the cost with respect to Z, numpy array with shape (size of current layer, number of examples)\n",
    "    \"\"\"\n",
    "    \n",
    "    Z = cache\n",
    "    s = sigmoid(Z, use_cache=False)\n",
    "    dZ = dA * s * (1-s)\n",
    "    \n",
    "    return dZ"
   ]
  },
  {
   "cell_type": "code",
   "execution_count": 309,
   "metadata": {},
   "outputs": [],
   "source": [
    "def relu_backward(dA, cache):\n",
    "    \"\"\"\n",
    "    Implements backward propagation for a ReLU unit\n",
    "    \n",
    "    Receives:\n",
    "    dA -- post-activation gradient, numpy array with shape (size of current layer, number of examples)\n",
    "    cache -- Z, stored from linear_activation_forward() (of current layer l)\n",
    "    \n",
    "    Returns:\n",
    "    dZ -- gradient of the cost with respect to Z, numpy array with shape (size of current layer, number of examples)\n",
    "    \"\"\"\n",
    "    \n",
    "    Z = cache\n",
    "    Z[Z <= 0] = 0\n",
    "    Z[Z > 0] = 1\n",
    "    dZ = dA * Z\n",
    "    \n",
    "    return dZ"
   ]
  },
  {
   "cell_type": "code",
   "execution_count": 310,
   "metadata": {},
   "outputs": [],
   "source": [
    "def linear_backward(dZ, cache):\n",
    "    \"\"\"\n",
    "    Implements the linear part of backward propagation\n",
    "    \n",
    "    Receives:\n",
    "    dZ -- gradient of the cost with respect to Z, numpy array with shape (size of current layer, number of examples)\n",
    "    cache -- tuple of values (A_prev, W, b), stored from linear_forward() (of current layer l)\n",
    "    \n",
    "    Returns:\n",
    "    dA_prev -- gradient of the cost with respect to the activation (of previous layer l-1), numpy array with same shape as A_prev\n",
    "    dW -- gradient of the cost with respect to W (of current layer l), numpy array with same shape as W\n",
    "    db -- gradient of the cost with respect to b (of current layer l), numpy array with same shape as b\n",
    "    \"\"\"\n",
    "    \n",
    "    A_prev, W, b = cache\n",
    "    m = A_prev.shape[1]\n",
    "    \n",
    "    dW = 1/m * np.dot(dZ, A_prev.T)\n",
    "    db = 1/m * np.sum(dZ, axis=1, keepdims=True)\n",
    "    dA_prev = np.dot(W.T, dZ)\n",
    "    \n",
    "    return dA_prev, dW, db"
   ]
  },
  {
   "cell_type": "code",
   "execution_count": 369,
   "metadata": {},
   "outputs": [
    {
     "name": "stdout",
     "output_type": "stream",
     "text": [
      "dA_prev:\n",
      "[[ 0.3549596   0.04786418]\n",
      " [ 1.63613911  0.22062357]\n",
      " [-1.07529876 -0.1449976 ]]\n",
      "dW:\n",
      "[[ 0.71624339 -0.76133087  0.28548822]]\n",
      "db:\n",
      "[[-1.02856814]]\n"
     ]
    }
   ],
   "source": [
    "dZ = np.random.randn(1,2)\n",
    "A_prev = np.random.randn(3,2)\n",
    "W = np.random.randn(1,3)\n",
    "b = np.random.randn(1,1)\n",
    "linear_cache = (A_prev, W, b)\n",
    "\n",
    "dA_prev, dW, db = linear_backward(dZ, linear_cache)\n",
    "print (\"dA_prev:\\n\"+ str(dA_prev))\n",
    "print (\"dW:\\n\" + str(dW))\n",
    "print (\"db:\\n\" + str(db))"
   ]
  },
  {
   "cell_type": "code",
   "execution_count": 370,
   "metadata": {},
   "outputs": [],
   "source": [
    "def linear_activation_backward(dA, cache, activation):\n",
    "    \"\"\"\n",
    "    Implements the activation part of backward propagation\n",
    "    \n",
    "    Receives:\n",
    "    dA -- post-activation gradient, numpy array with shape (size of current layer, number of examples)\n",
    "    cache -- tuple of values (linear_cache, activation_cache), stored from linear_activation_forward() (of current layer l)\n",
    "    activation -- the activation to be used in this layer, can be \"sigmoid\" or \"relu\"\n",
    "    \n",
    "    Returns:\n",
    "    dA_prev -- gradient of the cost with respect to the activation (of previous layer l-1), numpy array with same shape as A_prev\n",
    "    dW -- gradient of the cost with respect to W (of current layer l), numpy array with same shape as W\n",
    "    db -- gradient of the cost with respect to b (of current layer l), numpy array with same shape as b\n",
    "    \"\"\"\n",
    "    \n",
    "    linear_cache, activation_cache = cache\n",
    "    \n",
    "    \n",
    "    if activation == \"sigmoid\":\n",
    "        dZ = sigmoid_backward(dA, activation_cache)\n",
    "        dA_prev, dW, db = linear_backward(dZ, linear_cache)\n",
    "    elif activation == \"relu\":\n",
    "        dZ = relu_backward(dA, activation_cache)\n",
    "        dA_prev, dW, db = linear_backward(dZ, linear_cache)\n",
    "    \n",
    "    return dA_prev, dW, db"
   ]
  },
  {
   "cell_type": "code",
   "execution_count": 378,
   "metadata": {},
   "outputs": [
    {
     "name": "stdout",
     "output_type": "stream",
     "text": [
      "sigmoid:\n",
      "dA_prev:\n",
      "[[-0.46313465 -0.02826771]\n",
      " [-0.16832144 -0.0102736 ]\n",
      " [ 0.04235701  0.00258529]]\n",
      "dW:\n",
      "[[ 0.2262499   0.06811006 -0.07440005]]\n",
      "db:\n",
      "[[0.13884292]]\n",
      "\n",
      "ReLU:\n",
      "dA_prev:\n",
      "[[-2.09419105 -0.13165465]\n",
      " [-0.76111181 -0.0478485 ]\n",
      " [ 0.19152889  0.01204077]]\n",
      "dW:\n",
      "[[ 1.02305044  0.30927502 -0.33557597]]\n",
      "db:\n",
      "[[0.62889995]]\n"
     ]
    }
   ],
   "source": [
    "dAL = np.random.randn(1,2)\n",
    "A = np.random.randn(3,2)\n",
    "W = np.random.randn(1,3)\n",
    "b = np.random.randn(1,1)\n",
    "Z = np.random.randn(1,2)\n",
    "linear_cache = (A, W, b)\n",
    "activation_cache = Z\n",
    "linear_activation_cache = (linear_cache, activation_cache)\n",
    "\n",
    "dA_prev, dW, db = linear_activation_backward(dAL, linear_activation_cache, activation=\"sigmoid\")\n",
    "print (\"sigmoid:\")\n",
    "print (\"dA_prev:\\n\"+ str(dA_prev))\n",
    "print (\"dW:\\n\" + str(dW))\n",
    "print (\"db:\\n\" + str(db))\n",
    "\n",
    "dA_prev, dW, db = linear_activation_backward(dAL, linear_activation_cache, activation=\"relu\")\n",
    "print (\"\\nReLU:\")\n",
    "print (\"dA_prev:\\n\"+ str(dA_prev))\n",
    "print (\"dW:\\n\" + str(dW))\n",
    "print (\"db:\\n\" + str(db))"
   ]
  },
  {
   "cell_type": "code",
   "execution_count": 379,
   "metadata": {},
   "outputs": [],
   "source": [
    "def backward_propagation(AL, Y, caches):\n",
    "    \"\"\"\n",
    "    Implements backward propagation\n",
    "    \n",
    "    Receives:\n",
    "    AL -- probability vector corresponding to label predictions, numpy array with shape (output size, number of examples)\n",
    "    Y -- true label vector, numpy array with shape (output size, number of examples)\n",
    "    caches -- python array containing every cache of linear_activation_forward()\n",
    "    \n",
    "    Returns:\n",
    "    grads -- python dictionary containing gradients\n",
    "    \"\"\"\n",
    "    \n",
    "    grads = {}\n",
    "    L = len(caches)\n",
    "    m = AL.shape[1]\n",
    "    \n",
    "    dAL = -(np.divide(Y, AL) - np.divide(1-Y, 1-AL))\n",
    "    current_cache = caches[L-1]\n",
    "    grads[\"dA\" + str(L-1)], grads[\"dW\" + str(L)], grads[\"db\" + str(L)] = linear_activation_backward(dAL, current_cache, activation=\"sigmoid\")\n",
    "    \n",
    "    for l in range(L-1, 0, -1):\n",
    "        current_cache = caches[l-1]\n",
    "        dA_prev_temp, dW_temp, db_temp = linear_activation_backward(grads[\"dA\" + str(l)], current_cache, activation=\"relu\")\n",
    "        grads[\"dA\" + str(l-1)] = dA_prev_temp\n",
    "        grads[\"dW\" + str(l)] = dW_temp\n",
    "        grads[\"db\" + str(l)] = db_temp\n",
    "    \n",
    "    return grads"
   ]
  },
  {
   "cell_type": "code",
   "execution_count": 382,
   "metadata": {},
   "outputs": [
    {
     "name": "stdout",
     "output_type": "stream",
     "text": [
      "dW1:\n",
      "[[0.00652007 0.00127316 0.00356815 0.00023798]\n",
      " [0.         0.         0.         0.        ]\n",
      " [0.02595563 0.00506831 0.01420436 0.00094735]]\n",
      "db1:\n",
      "[[-0.00374853]\n",
      " [ 0.        ]\n",
      " [-0.01492246]]\n",
      "dA1:\n",
      "[[-0.00749706  0.00497036]\n",
      " [-0.0015931   0.00105619]\n",
      " [-0.02984492  0.01978641]]\n"
     ]
    }
   ],
   "source": [
    "AL = np.random.randn(1, 2)\n",
    "Y = np.array([1, 0])\n",
    "\n",
    "A1 = np.random.randn(4,2)\n",
    "W1 = np.random.randn(3,4)\n",
    "b1 = np.random.randn(3,1)\n",
    "Z1 = np.random.randn(3,2)\n",
    "linear_activation_cache_1 = ((A1, W1, b1), Z1)\n",
    "A2 = np.random.randn(3,2)\n",
    "W2 = np.random.randn(1,3)\n",
    "b2 = np.random.randn(1,1)\n",
    "Z2 = np.random.randn(1,2)\n",
    "linear_activation_cache_2 = ((A2, W2, b2), Z2)\n",
    "\n",
    "caches = (linear_activation_cache_1, linear_activation_cache_2)\n",
    "grads = backward_propagation(AL, Y, caches)\n",
    "\n",
    "print (\"dW1:\\n\"+ str(grads[\"dW1\"]))\n",
    "print (\"db1:\\n\"+ str(grads[\"db1\"]))\n",
    "print (\"dA1:\\n\"+ str(grads[\"dA1\"]))   "
   ]
  },
  {
   "cell_type": "code",
   "execution_count": 383,
   "metadata": {},
   "outputs": [],
   "source": [
    "def update_parameters(parameters, grads, learning_rate):\n",
    "    \"\"\"\n",
    "    Updates parameters using gradient descent\n",
    "    \n",
    "    Receives:\n",
    "    parameters -- python dictionary containing parameters\n",
    "    grads -- python dictionary containing gradients\n",
    "    learning_rate -- learning rate of the update rule, scalar\n",
    "    \n",
    "    Returns:\n",
    "    parameters -- python dictionary containing updated parameters\n",
    "    \"\"\"\n",
    "    \n",
    "    L = len(parameters) // 2\n",
    "    \n",
    "    for l in range(1, L+1):\n",
    "        parameters[\"W\" + str(l)] = parameters[\"W\" + str(l)] - learning_rate * grads[\"dW\" + str(l)]\n",
    "        parameters[\"b\" + str(l)] = parameters[\"b\" + str(l)] - learning_rate * grads[\"db\" + str(l)]\n",
    "    \n",
    "    return parameters"
   ]
  },
  {
   "cell_type": "code",
   "execution_count": 384,
   "metadata": {},
   "outputs": [
    {
     "name": "stdout",
     "output_type": "stream",
     "text": [
      "W1:\n",
      "[[-1.2280518  -0.03836167 -0.25914991 -3.41483169]\n",
      " [-0.80030676  0.61356837  2.58664907  1.77434171]\n",
      " [-1.10588837  0.60891102 -0.93046137 -0.73290954]]\n",
      "b1:\n",
      "[[1.4227802 ]\n",
      " [0.54949888]\n",
      " [0.56013303]]\n",
      "W2:\n",
      "[[ 1.15082314 -0.7500405   0.9910529 ]]\n",
      "b2:\n",
      "[[0.32704674]]\n"
     ]
    }
   ],
   "source": [
    "W1 = np.random.randn(3,4)\n",
    "b1 = np.random.randn(3,1)\n",
    "W2 = np.random.randn(1,3)\n",
    "b2 = np.random.randn(1,1)\n",
    "parameters = {\"W1\": W1,\n",
    "              \"b1\": b1,\n",
    "              \"W2\": W2,\n",
    "              \"b2\": b2}\n",
    "dW1 = np.random.randn(3,4)\n",
    "db1 = np.random.randn(3,1)\n",
    "dW2 = np.random.randn(1,3)\n",
    "db2 = np.random.randn(1,1)\n",
    "grads = {\"dW1\": dW1,\n",
    "         \"db1\": db1,\n",
    "         \"dW2\": dW2,\n",
    "         \"db2\": db2}\n",
    "parameters = update_parameters(parameters, grads, 0.01)\n",
    "\n",
    "print (\"W1:\\n\"+ str(parameters[\"W1\"]))\n",
    "print (\"b1:\\n\"+ str(parameters[\"b1\"]))\n",
    "print (\"W2:\\n\"+ str(parameters[\"W2\"]))\n",
    "print (\"b2:\\n\"+ str(parameters[\"b2\"]))"
   ]
  },
  {
   "cell_type": "code",
   "execution_count": 385,
   "metadata": {},
   "outputs": [],
   "source": [
    "def predict(X, Y, parameters):\n",
    "    \"\"\"\n",
    "    Implements predicting for testing\n",
    "    \n",
    "    Receives:\n",
    "    X -- data, numpy array with shape (size of input layer, number of examples)\n",
    "    Y -- true label vector, numpy array with shape (output size, number of examples)\n",
    "    parameters -- python dictionary containing parameters\n",
    "    \n",
    "    Returns:\n",
    "    p -- predictions for X\n",
    "    \"\"\"\n",
    "    \n",
    "    L = len(parameters) // 2\n",
    "    m = X.shape[1]\n",
    "    \n",
    "    p = np.zeros((1, m))\n",
    "    probabilities = forward_propagation(X, parameters, use_cache=False)\n",
    "    \n",
    "    for i in range(m):\n",
    "        if probabilities[0,i] > 0.5:\n",
    "            p[0,i] = 1\n",
    "    \n",
    "    print(\"Accuracy: \" + str(np.sum(p == Y)/m))\n",
    "    \n",
    "    return p"
   ]
  },
  {
   "cell_type": "code",
   "execution_count": 386,
   "metadata": {},
   "outputs": [
    {
     "name": "stdout",
     "output_type": "stream",
     "text": [
      "Accuracy: 0.6666666666666666\n"
     ]
    }
   ],
   "source": [
    "X = np.random.randn(4,3)\n",
    "Y = np.array([1, 0, 1])\n",
    "W1 = np.random.randn(3,4)\n",
    "b1 = np.random.randn(3,1)\n",
    "W2 = np.random.randn(1,3)\n",
    "b2 = np.random.randn(1,1)\n",
    "parameters = {\"W1\": W1,\n",
    "              \"b1\": b1,\n",
    "              \"W2\": W2,\n",
    "              \"b2\": b2}\n",
    "p = predict(X, Y, parameters)"
   ]
  }
 ],
 "metadata": {
  "kernelspec": {
   "display_name": "Python 3",
   "language": "python",
   "name": "python3"
  },
  "language_info": {
   "codemirror_mode": {
    "name": "ipython",
    "version": 3
   },
   "file_extension": ".py",
   "mimetype": "text/x-python",
   "name": "python",
   "nbconvert_exporter": "python",
   "pygments_lexer": "ipython3",
   "version": "3.7.1"
  }
 },
 "nbformat": 4,
 "nbformat_minor": 2
}
